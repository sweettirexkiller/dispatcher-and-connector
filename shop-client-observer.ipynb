{
 "cells": [
  {
   "cell_type": "markdown",
   "metadata": {},
   "source": [
    "\n"
   ]
  },
  {
   "cell_type": "code",
   "execution_count": 283,
   "metadata": {},
   "outputs": [],
   "source": [
    "class Shop():\n",
    "    \n",
    "    def __init__(self, name, branch, inventory, dispacher = None):\n",
    "        self.name = str(name)\n",
    "        self.branch = str(branch)\n",
    "        self.inventory = inventory\n",
    "        self.revenue = 0\n",
    "        self.dispacher = dispacher\n",
    "    \n",
    "    def __str__(self):\n",
    "        result = \"Shop's name: \\t%s \\nBranch: \\t%s\\n\\n \\tThis shop products are:\\n\\n\"%(self.name, self.branch)\n",
    "        \n",
    "        inventoryList = map(lambda product: product.get_name() + '\\t\\t' + str(product.get_price()), self.inventory)\n",
    "        \n",
    "        for product_description in inventoryList:\n",
    "            result += product_description + '\\n'\n",
    "            \n",
    "            \n",
    "        return  result\n",
    "    \n",
    "    def get_name(self):\n",
    "        return self.name\n",
    "        \n",
    "    def get_branch(self):\n",
    "        return self.branch;\n",
    "    \n",
    "    def set_name(self, name):\n",
    "        self.name = name \n",
    "        return self\n",
    "        \n",
    "    def set_branch(self, branch):\n",
    "        self.branch = branch \n",
    "        return self\n",
    "    \n",
    "    def add_product(self):\n",
    "        name = str(input(\"The product's name: \"))\n",
    "        price = float(input(\"The product's price: \"))\n",
    "        newProduct = Product(name, price)\n",
    "        self.inventory.append(newProduct)\n",
    "        if self.dispatcher.fire('productAdded')\n",
    "        \n",
    "    def handle_client(self,client):\n",
    "        if self.checkInventory(client.productsNames):\n",
    "            print(\"We don't have all products in our inventory! We are soryy!\")\n",
    "            return\n",
    "        \n",
    "        vatRate = 0.23 if (client.get_type() == 'regular') else 0\n",
    "        \n",
    "        print(\"We will use vat rate of: %.2f\"%vatRate)\n",
    "        \n",
    "        price = self.calculatePrice(client.productsNames, vatRate)\n",
    "        \n",
    "        print(\"It will cost: \" + str(price) + \"\\n\")\n",
    "        \n",
    "        if self.billTheClient(client, price, vatRate):\n",
    "            print(\"Here ypu have! Here are your products: %s\"%(str(list(client.productsNames))))\n",
    "            client.clearWishes()\n",
    "            return True\n",
    "        \n",
    "        \n",
    "        \n",
    "    \n",
    "    def checkInventory(self, productsToSell):\n",
    "        productsInInventory = map(lambda ownProduct: ownProduct.get_name() ,self.inventory)\n",
    "        for name in productsToSell:\n",
    "            if str(name) not in productsInInventory:\n",
    "                return False\n",
    "        return True\n",
    "    \n",
    "    def calculatePrice(self, productsToSell, vatRate):\n",
    "        sum = 0\n",
    "        for name in productsToSell: \n",
    "            product = list(filter(lambda ownProduct: ownProduct.get_name() == name, self.inventory))[0]\n",
    "            sum += product.get_price()\n",
    "        return sum + sum*vatRate\n",
    "    \n",
    "    def billTheClient(self,client, price, vatRate):\n",
    "        if client.accountState - price < 0:\n",
    "            print(\"You can't afford this stuff!\")\n",
    "            return False\n",
    "        client.spendMoney(price)\n",
    "        return True\n",
    "            \n",
    "        \n",
    "    \n",
    "    "
   ]
  },
  {
   "cell_type": "code",
   "execution_count": 284,
   "metadata": {},
   "outputs": [],
   "source": [
    "class Product():\n",
    "     def __init__(self, name, price):\n",
    "        self.name = str(name)\n",
    "        self.price = float(price)\n",
    "    \n",
    "     def get_name(self):\n",
    "        return self.name\n",
    "    \n",
    "     def get_price(self):\n",
    "        return self.price"
   ]
  },
  {
   "cell_type": "code",
   "execution_count": 285,
   "metadata": {},
   "outputs": [],
   "source": [
    "inventory = [\n",
    "    Product('Bread',3),\n",
    "    Product('Ham', 4.5),\n",
    "    Product('Cheese', 2),\n",
    "    Product('Milk', 3.20),\n",
    "    Product('Butter', 1.50),\n",
    "]"
   ]
  },
  {
   "cell_type": "code",
   "execution_count": 286,
   "metadata": {},
   "outputs": [],
   "source": [
    "class Client():\n",
    "    def __init__(self, productsNames, accountState, type = 'regular'):\n",
    "        self.productsNames = list(productsNames)\n",
    "        self.accountState = float(accountState)\n",
    "        self.type = type\n",
    "        \n",
    "    def spendMoney(self, ammount):\n",
    "        self.accountState -= ammount\n",
    "        print('The remainder is: ' + str(self.accountState))\n",
    "                     \n",
    "    def get_productsNames(self):\n",
    "        return self.productsNames\n",
    "    \n",
    "    def clearWishes(self):\n",
    "        self.productsNames = list()\n",
    "    def get_type(self):\n",
    "        return self.type\n",
    "    \n",
    "    def productAdded(self):\n",
    "        print('Hey I have been notified of a new product!')"
   ]
  },
  {
   "cell_type": "code",
   "execution_count": 287,
   "metadata": {},
   "outputs": [],
   "source": [
    "meWantingToBuyButterAndBread = Client(['Butter', 'Bread'], 10)"
   ]
  },
  {
   "cell_type": "code",
   "execution_count": 288,
   "metadata": {
    "scrolled": false
   },
   "outputs": [
    {
     "name": "stdout",
     "output_type": "stream",
     "text": [
      "\tWelcome to this shop!\n",
      " Shop's name: \tCheap Breakfast \n",
      "Branch: \tgrocery\n",
      "\n",
      " \tThis shop products are:\n",
      "\n",
      "Bread\t\t3.0\n",
      "Ham\t\t4.5\n",
      "Cheese\t\t2.0\n",
      "Milk\t\t3.2\n",
      "Butter\t\t1.5\n",
      "\n"
     ]
    }
   ],
   "source": [
    "cheapBreakfast = Shop('Cheap Breakfast', 'grocery', inventory)\n",
    "print('\\tWelcome to this shop!\\n', cheapBreakfast)"
   ]
  },
  {
   "cell_type": "code",
   "execution_count": 289,
   "metadata": {
    "scrolled": true
   },
   "outputs": [
    {
     "name": "stdout",
     "output_type": "stream",
     "text": [
      "We will use vat rate of: 0.23\n",
      "It will cost: 5.535\n",
      "\n",
      "The remainder is: 4.465\n",
      "Here ypu have! Here are your products: ['Butter', 'Bread']\n",
      "Goodbye!\n"
     ]
    }
   ],
   "source": [
    "if cheapBreakfast.handle_client(meWantingToBuyButterAndBread) :\n",
    "    print('Goodbye!')"
   ]
  },
  {
   "cell_type": "code",
   "execution_count": 305,
   "metadata": {},
   "outputs": [
    {
     "name": "stdout",
     "output_type": "stream",
     "text": [
      "[{'name': <__main__.Client object at 0x108b3d1d0>, 'event': 'userNotified'}]\n"
     ]
    }
   ],
   "source": [
    "class EventDisapcher():\n",
    "    \n",
    "    def __init__(self):\n",
    "        self.events = []\n",
    "        self.listeners = []\n",
    "        \n",
    "    def addEvent(self, name):\n",
    "        self.events.append(str(name))\n",
    "        \n",
    "        return self\n",
    "    \n",
    "    def listen(self, who, what):\n",
    "        self.listeners.append({\n",
    "            'who': who, \n",
    "            'event':what\n",
    "        })\n",
    "        return self\n",
    "    \n",
    "    def fire(self, event):\n",
    "#     Get all listners to this event\n",
    "        toDispatch = list(filter(lambda listener: listener['event'] == event, self.listeners)) \n",
    "#     Notify each listener of this event\n",
    "        for listener in toDispatch:\n",
    "#     Fire the method\n",
    "            listener['who'].{event}\n",
    "    \n",
    "    \n",
    "        \n",
    "me = Client(['Bread'], 10) \n",
    "\n",
    "globalDispacher = EventDisapcher()\n",
    "dispacher.addEvent('productAdded')\n",
    "\n",
    "dispacher.listen(me, 'productAdded')\n",
    "\n",
    "\n",
    "randomShop = Shop('Random', 'random',inventory, globalDispacher)\n",
    "\n",
    "randomShop.addProduct()\n",
    "\n",
    "    \n",
    "    \n",
    "        \n",
    "        "
   ]
  }
 ],
 "metadata": {
  "kernelspec": {
   "display_name": "Python 3",
   "language": "python",
   "name": "python3"
  },
  "language_info": {
   "codemirror_mode": {
    "name": "ipython",
    "version": 3
   },
   "file_extension": ".py",
   "mimetype": "text/x-python",
   "name": "python",
   "nbconvert_exporter": "python",
   "pygments_lexer": "ipython3",
   "version": "3.6.4"
  }
 },
 "nbformat": 4,
 "nbformat_minor": 2
}
